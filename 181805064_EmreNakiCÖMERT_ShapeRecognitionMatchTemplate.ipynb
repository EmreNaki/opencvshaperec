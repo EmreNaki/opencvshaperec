{
 "cells": [
  {
   "cell_type": "code",
   "execution_count": 2,
   "id": "7f4b9290",
   "metadata": {},
   "outputs": [],
   "source": [
    "import numpy as np\n",
    "import cv2\n",
    "\n",
    "# Load the template image of the shape you want to detect\n",
    "template_circle = cv2.imread(\"template_circle.png\", 0)\n",
    "template_square = cv2.imread(\"template_square.png\", 0)\n",
    "template_triangle = cv2.imread(\"template_triangle.png\", 0)\n",
    "template_pentagon = cv2.imread(\"template_pentagon.png\", 0)\n",
    "template_hexagon = cv2.imread(\"template_hexagon.png\", 0)\n",
    "\n",
    "\n",
    "templates = [template_circle, template_square, template_triangle, template_pentagon, template_hexagon]\n",
    "\n",
    "# Initialize the webcam\n",
    "cap = cv2.VideoCapture(0)\n",
    "\n",
    "while True:\n",
    "    # Read a frame from the webcam\n",
    "    _, frame = cap.read()\n",
    "\n",
    "    # Convert the frame to grayscale\n",
    "    gray = cv2.cvtColor(frame, cv2.COLOR_BGR2GRAY)\n",
    "\n",
    "    # Threshold\n",
    "    threshold = 0.5\n",
    "    \n",
    "    for template in templates:\n",
    "        # Use the matchTemplate function to find the template in the frame\n",
    "        result = cv2.matchTemplate(gray, template, cv2.TM_CCOEFF_NORMED)\n",
    "        # Use the minMaxLoc function to find the location of the highest match\n",
    "        min_val, max_val, min_loc, max_loc = cv2.minMaxLoc(result)\n",
    "            \n",
    "        if max_val > threshold:\n",
    "            (x, y) = max_loc\n",
    "            (w, h) = template.shape[::-1]\n",
    "            #Draw a rectangle around shapes\n",
    "            cv2.rectangle(frame, (x, y), (x + w, y + h), (0, 0, 255), 2)\n",
    "        \n",
    "\n",
    "        # Display the frame with the detected shape\n",
    "    cv2.imshow(\"Shape Detection\", frame)\n",
    "\n",
    "    # Check if the user pressed the 'q' key\n",
    "    if cv2.waitKey(1) & 0xFF == ord('q'):\n",
    "        break\n",
    "\n",
    "# Release the webcam and close the window\n",
    "cap.release()\n",
    "cv2.destroyAllWindows()\n",
    "\n"
   ]
  },
  {
   "cell_type": "code",
   "execution_count": null,
   "id": "a5f78f8c",
   "metadata": {},
   "outputs": [],
   "source": []
  }
 ],
 "metadata": {
  "kernelspec": {
   "display_name": "Python 3",
   "language": "python",
   "name": "python3"
  },
  "language_info": {
   "codemirror_mode": {
    "name": "ipython",
    "version": 3
   },
   "file_extension": ".py",
   "mimetype": "text/x-python",
   "name": "python",
   "nbconvert_exporter": "python",
   "pygments_lexer": "ipython3",
   "version": "3.8.8"
  }
 },
 "nbformat": 4,
 "nbformat_minor": 5
}
